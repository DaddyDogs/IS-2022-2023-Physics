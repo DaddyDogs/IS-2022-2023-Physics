{
  "nbformat": 4,
  "nbformat_minor": 0,
  "metadata": {
    "colab": {
      "provenance": [],
      "authorship_tag": "ABX9TyPTkiNFtYLMFBivHuSRTQwS",
      "include_colab_link": true
    },
    "kernelspec": {
      "name": "python3",
      "display_name": "Python 3"
    },
    "language_info": {
      "name": "python"
    }
  },
  "cells": [
    {
      "cell_type": "markdown",
      "metadata": {
        "id": "view-in-github",
        "colab_type": "text"
      },
      "source": [
        "<a href=\"https://colab.research.google.com/github/DaddyDogs/IS-2022-2023-Physics/blob/main/Aberration_mod2_Ermolaeva.ipynb\" target=\"_parent\"><img src=\"https://colab.research.google.com/assets/colab-badge.svg\" alt=\"Open In Colab\"/></a>"
      ]
    },
    {
      "cell_type": "markdown",
      "source": [
        "# Моделирование работы линзы по матричной теории Гауссовой оптики\n",
        "Задачи, решаемые при выполнении работы.\n",
        "1. Вывести формулу для преобразования координат объекта в координаты\n",
        "изображения\n",
        "2. Посчитать показатель преломления через длину волны\n",
        "3. Построить изображение\n",
        "4. Доказать, что при прохождении лучей различных длин волн изображение может\n",
        "быть искажено из-за аберраций линзы\n",
        "\n"
      ],
      "metadata": {
        "id": "H5nPTHdiXqFD"
      }
    },
    {
      "cell_type": "code",
      "source": [
        "import PIL\n",
        "import math"
      ],
      "metadata": {
        "id": "FJXxuj71fBN1"
      },
      "execution_count": null,
      "outputs": []
    },
    {
      "cell_type": "code",
      "source": [
        "def new_picture(file_name):\n",
        "        refactored_file = \"refactored_\" + file_name\n",
        "        image = PIL.Image.open(file_name)\n",
        "        width, height = image.size\n",
        "        newImage = PIL.Image.new(\"RGB\", (width, height))\n",
        "        oldPixels = image.convert(\"RGB\").load()\n",
        "        red_matrix = new_matrix(width, height, oldPixels, 0)\n",
        "        green_matrix = new_matrix(width, height, oldPixels, 1)\n",
        "        blue_matrix = new_matrix(width, height, oldPixels, 2)\n",
        "        for x in range(width):\n",
        "            for y in range(height):\n",
        "                newImage.putpixel((x, y), (red_matrix[x][y], green_matrix[x][y], blue_matrix[x][y]))\n",
        "        newImage.save(refactored_file)"
      ],
      "metadata": {
        "id": "w4ZsgdQnL0FU"
      },
      "execution_count": null,
      "outputs": []
    },
    {
      "cell_type": "code",
      "source": [
        " def new_matrix(width, height, pixels, wave):\n",
        "      matrix = [[0 for i in range(height)] for j in range(width)]\n",
        "      for x in range(width):\n",
        "          for y in range(height):\n",
        "              abscissa = round((x-width/2) * focal_length[wave] / rear_distance[wave] + width/2)\n",
        "              ordinate = round((y-height/2) * focal_length[wave] / rear_distance[wave] + height/2)\n",
        "              if ordinate < 0 or ordinate >= height or abscissa < 0 or abscissa >= width:\n",
        "                  matrix[x][y] = 0\n",
        "              else:\n",
        "                  if wave == 0:\n",
        "                      matrix[x][y] = pixels[abscissa, ordinate][0]\n",
        "                  elif wave == 1:\n",
        "                      matrix[x][y] = pixels[abscissa, ordinate][1]\n",
        "                  else:\n",
        "                      matrix[x][y] = pixels[abscissa, ordinate][2]\n",
        "      return matrix"
      ],
      "metadata": {
        "id": "B5597KnndMNC"
      },
      "execution_count": null,
      "outputs": []
    },
    {
      "cell_type": "code",
      "source": [
        "wave_length = [740e-9, 565e-9, 485e-9]\n",
        "optical_power = 20\n",
        "screenSize = 0.1\n",
        "thicknessOfEyes = 0.1\n",
        "B1 = 1.03961212\n",
        "B2 = 0.231792344\n",
        "B3 = 1.01046945\n",
        "C1 = 6.00069867e-15\n",
        "C2 = 2.00179144e-14\n",
        "C3 = 1.03560653e-10\n",
        "refractive_index = [0] * 3\n",
        "focal_length = [0] * 3\n",
        "rear_distance = [0] * 3\n",
        "for i in range (3):\n",
        "  squared_waveLength = wave_length[i] ** 2\n",
        "  refractive_index[i] = math.sqrt(1 + B1 * squared_waveLength / (squared_waveLength - C1) + B2 * squared_waveLength / (squared_waveLength - C2) +\n",
        "                       B3 * squared_waveLength / (squared_waveLength - C3))\n",
        "  focal_length[i] = refractive_index[i] / optical_power\n",
        "  rear_distance[i] = focal_length[i] - thicknessOfEyes / 2\n",
        "print(refractive_index)"
      ],
      "metadata": {
        "colab": {
          "base_uri": "https://localhost:8080/"
        },
        "id": "MqotKi_HdgeS",
        "outputId": "25355855-732e-4c7f-df82-01e57a9e423f"
      },
      "execution_count": null,
      "outputs": [
        {
          "output_type": "stream",
          "name": "stdout",
          "text": [
            "[1.5120668948646394, 1.517795913326856, 1.522458528270238]\n"
          ]
        }
      ]
    },
    {
      "cell_type": "code",
      "source": [
        "new_picture(\"test1.jpg\")"
      ],
      "metadata": {
        "id": "g3qV3HN8dYiX"
      },
      "execution_count": null,
      "outputs": []
    },
    {
      "cell_type": "markdown",
      "source": [
        "Мы смоделировали работу линзы, используя матричную теорию Гауссовой\n",
        "оптики, учтя 3 длины волны из красных, синих и зеленых частей спектра, причем\n",
        "короткие волны преломляются сильнее длинных. При прохождении лучей различных длин волн изображение искажается из-за аберраций линзы. Чем дальше от центра\n",
        "изображения, тем больше оно искажается, поскольку в центре выходная координата\n",
        "равна 0, а ближе к краям увеличивается."
      ],
      "metadata": {
        "id": "upjf9OcLX3vU"
      }
    }
  ]
}