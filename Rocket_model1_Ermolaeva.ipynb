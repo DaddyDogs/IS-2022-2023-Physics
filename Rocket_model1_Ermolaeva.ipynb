{
  "cells": [
    {
      "cell_type": "markdown",
      "metadata": {
        "id": "view-in-github",
        "colab_type": "text"
      },
      "source": [
        "<a href=\"https://colab.research.google.com/github/DaddyDogs/IS-2022-2023-Physics/blob/main/Rocket_model1_Ermolaeva.ipynb\" target=\"_parent\"><img src=\"https://colab.research.google.com/assets/colab-badge.svg\" alt=\"Open In Colab\"/></a>"
      ]
    },
    {
      "cell_type": "markdown",
      "source": [
        "# Моделирование полета ракеты\n",
        "Задачи, решаемые при выполнении работы:\n",
        "1.\tОпределить время полета при падении на землю\n",
        "2.\tНайти угол для определенного промежутка времени\n",
        "3.\tПостроить графики траекторий движения ракеты\n",
        "\n",
        "Для расчёта используются формулы Мещерского и Циалковского:\n",
        "\n",
        "$ m\\frac{d\\vec{v}}{dt} = \\vec{F} + \\vec{u}\\frac{dm}{dt} $\n",
        "\n",
        "$ \\vec{v} = I \\cdot ln \\frac{M_0}{M_1} $\n",
        "\n",
        "$ \\vec{u} $ - относительная скорость отделяющихся частиц\n",
        "\n",
        "$ \\frac{dm}{dt} $ - секундный расход массы\n",
        "\n",
        "$ M_0 \\space и \\space M_1 $ - начальная и конечная массы ракеты\n",
        "\n",
        "$ I $ - удельный импульс ракетного двигателя\n"
      ],
      "metadata": {
        "id": "Ri0DqTmAQa2R"
      }
    },
    {
      "cell_type": "code",
      "execution_count": null,
      "metadata": {
        "id": "OImVUiYXQrJ3"
      },
      "outputs": [],
      "source": [
        "import math\n",
        "import matplotlib.pyplot as plt"
      ]
    },
    {
      "cell_type": "code",
      "execution_count": null,
      "metadata": {
        "id": "D2UFQ5gLQrKB"
      },
      "outputs": [],
      "source": [
        "FPS = 10000\n",
        "ACCELERATION_OF_GRAVITY = 9.81    # ускорение свободного падения\n",
        "rocket_weight = 20                # вес ракеты без топлива\n",
        "fuel_weight = 23                  # вес топлива\n",
        "gas_outflow_speed = 190           # скорость вылета топлива\n",
        "fuel_combustion_rate = 20         # скорость сгорания топлива\n",
        "planet_weight = 5.972e+24         # вес Земли\n",
        "planet_radius = 6371000           # радиус Земли\n",
        "scale = 0.5                       # спец коэффициент\n",
        "start_x = 0                       # координата x точки старта\n",
        "start_y = 1                       # координата y точки старта\n",
        "ground_level = 0                  # 0-уровень потенциальной энергии (земля)\n",
        "GRAVITATIONAL_CONSTANT = 6.67e-11 # Гравитационная постоянная"
      ]
    },
    {
      "cell_type": "code",
      "execution_count": null,
      "metadata": {
        "id": "Cv3on8EjQrKE"
      },
      "outputs": [],
      "source": [
        "ACCELERATION_OF_GRAVITY = GRAVITATIONAL_CONSTANT * planet_weight / planet_radius / planet_radius\n",
        "\n",
        "TIME = 0.0 # время"
      ]
    },
    {
      "cell_type": "code",
      "execution_count": null,
      "metadata": {
        "id": "xIOrt8XHQrKH"
      },
      "outputs": [],
      "source": [
        "class Rocket():\n",
        "    def __init__(self, x, y, angle):\n",
        "        global rocket_weight, fuel_weight\n",
        "        self.x = x\n",
        "        self.y = y\n",
        "\n",
        "        self.rotation = 90 - angle\n",
        "        self.rocket_weight = rocket_weight\n",
        "        self.fuel_weight = fuel_weight\n",
        "\n",
        "        self.speed_x = 0\n",
        "        self.speed_y = 0\n",
        "\n",
        "        self.crash = False\n",
        "        self.X = []\n",
        "        self.Y = []\n",
        "\n",
        "    def update(self):\n",
        "        self.update_speed()\n",
        "        self.update_rotation()\n",
        "        self.update_position()\n",
        "        self.write_info()\n",
        "\n",
        "    def update_position(self):\n",
        "        self.x += self.speed_x / FPS\n",
        "        self.y += self.speed_y / FPS\n",
        "\n",
        "    def update_speed(self):\n",
        "        if self.fuel_weight > 0:\n",
        "            self.jet_effect()\n",
        "        self.gravity_effect()\n",
        "\n",
        "    def gravity_effect(self):\n",
        "        if self.y > ground_level:\n",
        "            self.speed_y -= ACCELERATION_OF_GRAVITY / FPS\n",
        "        else:\n",
        "            self.speed_y = 0\n",
        "            self.speed_x /= 10\n",
        "            self.crash = True\n",
        "\n",
        "    def get_speed(self):\n",
        "        return math.sqrt(self.speed_x ** 2 + self.speed_y ** 2)\n",
        "\n",
        "    def jet_effect(self):\n",
        "        global fuel_combustion_rate, gas_outflow_speed\n",
        "        self.speed_x += fuel_combustion_rate * gas_outflow_speed / FPS /\\\n",
        "                (rocket_weight + self.fuel_weight - fuel_combustion_rate / FPS)\\\n",
        "                * math.sin(self.rotation * math.pi / 180)\n",
        "\n",
        "        self.speed_y += fuel_combustion_rate * gas_outflow_speed / FPS /\\\n",
        "                        (rocket_weight + self.fuel_weight - fuel_combustion_rate / FPS)\\\n",
        "                        * math.cos(self.rotation * math.pi / 180)\n",
        "\n",
        "        self.fuel_weight -= fuel_combustion_rate / FPS\n",
        "\n",
        "    def update_rotation(self):\n",
        "        if self.speed_x != 0:\n",
        "            self.rotation = math.atan2(self.speed_y, -self.speed_x) * 180 / math.pi - 90\n",
        "        else:\n",
        "            if self.speed_y >= 0:\n",
        "                self.rotation = 0\n",
        "            else:\n",
        "                self.rotation = 180\n",
        "    def write_info(self):\n",
        "        global TIME\n",
        "        #file.write(f\"{round(TIME, 3)} : ({round(self.x, 3)}; {round(self.y, 3)}), {round(self.rotation, 3)}, {round(self.get_speed(), 3)}\\n\")\n",
        "        self.X.append(self.x)\n",
        "        self.Y.append(self.y)"
      ]
    },
    {
      "cell_type": "code",
      "execution_count": null,
      "metadata": {
        "colab": {
          "base_uri": "https://localhost:8080/",
          "height": 447
        },
        "id": "pTrISWQ3QrKQ",
        "outputId": "cd8bcb95-33d0-4300-b1b8-833043a334e3"
      },
      "outputs": [
        {
          "output_type": "execute_result",
          "data": {
            "text/plain": [
              "[<matplotlib.lines.Line2D at 0x7f93512d77c0>]"
            ]
          },
          "metadata": {},
          "execution_count": 15
        },
        {
          "output_type": "display_data",
          "data": {
            "text/plain": [
              "<Figure size 640x480 with 1 Axes>"
            ],
            "image/png": "[encoded data removed]"
          },
          "metadata": {}
        }
      ],
      "source": [
        "\n",
        "rocket1 = Rocket(0, 10, 60)\n",
        "rocket2 = Rocket(0, 10, 65)\n",
        "\n",
        "while not (rocket1.crash and rocket2.crash):\n",
        "    rocket1.update()\n",
        "    rocket2.update()\n",
        "    TIME += 1/FPS\n",
        "\n",
        "plt.plot(rocket1.X, rocket1.Y)\n",
        "plt.plot(rocket2.X, rocket2.Y)\n"
      ]
    }
  ],
  "metadata": {
    "kernelspec": {
      "display_name": "Python 3",
      "language": "python",
      "name": "python3"
    },
    "language_info": {
      "codemirror_mode": {
        "name": "ipython",
        "version": 3
      },
      "file_extension": ".py",
      "mimetype": "text/x-python",
      "name": "python",
      "nbconvert_exporter": "python",
      "pygments_lexer": "ipython3",
      "version": "3.7.6"
    },
    "colab": {
      "provenance": [],
      "include_colab_link": true
    }
  },
  "nbformat": 4,
  "nbformat_minor": 0
}